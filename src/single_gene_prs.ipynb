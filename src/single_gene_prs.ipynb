{
 "cells": [
  {
   "cell_type": "markdown",
   "metadata": {},
   "source": [
    "Install and import required packages and extract data"
   ]
  },
  {
   "cell_type": "code",
   "execution_count": 1,
   "metadata": {},
   "outputs": [],
   "source": [
    "# Cell 1\n",
    "#!pip install -r ../requirements.txt"
   ]
  },
  {
   "cell_type": "code",
   "execution_count": 2,
   "metadata": {},
   "outputs": [
    {
     "name": "stdout",
     "output_type": "stream",
     "text": [
      "Loading data...\n",
      "Complete\n"
     ]
    }
   ],
   "source": [
    "# Cell 2\n",
    "import warnings\n",
    "warnings.filterwarnings('ignore')\n",
    "\n",
    "import pandas_plink as pp\n",
    "import statsmodels.api as sm\n",
    "import matplotlib.pyplot as plt\n",
    "import subprocess\n",
    "import pandas as pd\n",
    "import numpy as np\n",
    "from functools import reduce\n",
    "from sklearn.metrics import r2_score\n",
    "import random\n",
    "import os\n",
    "import tarfile\n",
    "import gzip\n",
    "from extract_data import extract_data\n",
    "#extract_data()\n",
    "from tools import *\n",
    "\n",
    "\n",
    "%load_ext autoreload\n",
    "%autoreload 2"
   ]
  },
  {
   "cell_type": "code",
   "execution_count": 3,
   "metadata": {},
   "outputs": [
    {
     "name": "stdout",
     "output_type": "stream",
     "text": [
      "PLINK v2.0.0-a.6 32-bit (20 Oct 2024)              cog-genomics.org/plink/2.0/\r\n",
      "(C) 2005-2024 Shaun Purcell, Christopher Chang   GNU General Public License v3\r\n",
      "\r\n",
      "  plink2 <input flag(s)...> [command flag(s)...] [other flag(s)...]\r\n",
      "  plink2 --help [flag name(s)...]\r\n",
      "\r\n",
      "Commands include --rm-dup list, --make-bpgen, --export, --freq, --geno-counts,\r\n",
      "--sample-counts, --missing, --hardy, --het, --fst, --indep-pairwise,\r\n",
      "--r2-phased, --sample-diff, --make-king, --king-cutoff, --pmerge, --pgen-diff,\r\n",
      "--write-samples, --write-snplist, --make-grm-list, --pca, --glm, --adjust-file,\r\n",
      "--gwas-ssf, --pheno-svd, --clump, --score-list, --variant-score,\r\n",
      "--genotyping-rate, --pgen-info, --validate, and --zst-decompress.\r\n",
      "\r\n",
      "\"plink2 --help | more\" describes all functions.\r\n"
     ]
    }
   ],
   "source": [
    "# Cell 3\n",
    "\n",
    "\n",
    "\n",
    "# IF RUNNING THIS RESULTS IN THE ERROR MESSAGE:\n",
    "# /bin/bash: ./plink2: Permission denied\n",
    "# UNCOMMENT THE LINE OF CODE BELOW THIS AND RERUN THE CELL THEN RECOMMENT\n",
    "\n",
    "#######################################\n",
    "#!chmod 700 plink2\n",
    "#######################################\n",
    "\n",
    "# OTHERWISE, SHOULD OUTPUT SOMETHING LIKE \n",
    "\"\"\"\n",
    "PLINK v2.0.0-a.6 32-bit (20 Oct 2024)              cog-genomics.org/plink/2.0/\n",
    "(C) 2005-2024 Shaun Purcell, Christopher Chang   GNU General Public License v3\n",
    "\n",
    "  plink2 <input flag(s)...> [command flag(s)...] [other flag(s)...]\n",
    "  plink2 --help [flag name(s)...]\n",
    "\n",
    "Commands include --rm-dup list, --make-bpgen, --export, --freq, --geno-counts,\n",
    "--sample-counts, --missing, --hardy, --het, --fst, --indep-pairwise,\n",
    "--r2-phased, --sample-diff, --make-king, --king-cutoff, --pmerge, --pgen-diff,\n",
    "--write-samples, --write-snplist, --make-grm-list, --pca, --glm, --adjust-file,\n",
    "--gwas-ssf, --pheno-svd, --clump, --score-list, --variant-score,\n",
    "--genotyping-rate, --pgen-info, --validate, and --zst-decompress.\n",
    "\n",
    "\"plink2 --help | more\" describes all functions.\n",
    "\n",
    "\"\"\"\n",
    "!./plink2\n"
   ]
  },
  {
   "cell_type": "markdown",
   "metadata": {},
   "source": [
    "Load data"
   ]
  },
  {
   "cell_type": "code",
   "execution_count": null,
   "metadata": {},
   "outputs": [],
   "source": [
    "# Cell 4\n",
    "phenotype_data = '../data/GD462.GeneQuantRPKM.50FN.samplename.resk10.txt.gz'\n",
    "\n",
    "# alleles = .bim (snp. came from vcf file (txt file))\n",
    "# samples = .fam (family id)\n",
    "# genotypes = .bed (genotypes). Rows and columns defined by alleles and samples\n",
    "(alleles, samples, genotypes) = pp.read_plink(\"../data/LDREF/1000G.EUR.*\",\n",
    "                             verbose=False)\n",
    "genotypes = pd.DataFrame(genotypes.compute())\n",
    "P = pd.read_csv(phenotype_data, sep='\\t', compression='gzip')\n",
    "P"
   ]
  },
  {
   "cell_type": "code",
   "execution_count": null,
   "metadata": {
    "scrolled": true
   },
   "outputs": [],
   "source": [
    "# Cell 5\n",
    "chr_to_explore = '19'\n",
    "gene_to_explore = 'ENSG00000083844.5'\n",
    "\n",
    "# eQTL analysis\n",
    "temp_analysis = cis_eQTL_analysis(chr_to_explore, gene_to_explore, alleles, samples, genotypes, P)\n",
    "temp_analysis"
   ]
  },
  {
   "cell_type": "code",
   "execution_count": null,
   "metadata": {},
   "outputs": [],
   "source": [
    "# Cell 6\n",
    "# eQTL analysis for all genes on a chromosome\n",
    "#chr_4_analysis = chr_analysis('4', alleles, samples, genotypes, P)\n",
    "#chr_4_analysis\n"
   ]
  },
  {
   "cell_type": "code",
   "execution_count": null,
   "metadata": {},
   "outputs": [],
   "source": [
    "# Cell 7\n",
    "test_risk_scores = generate_prs(gene_to_explore, alleles, samples, genotypes, P, 0.05, 0.1)\n",
    "prs_df = pd.DataFrame.from_dict(test_risk_scores, orient='index').reset_index().rename(columns={0:'prs', 'index': 'fid'})\n",
    "prs_df['prs'].plot(kind='hist', bins=50)\n",
    "plt.show()"
   ]
  },
  {
   "cell_type": "code",
   "execution_count": null,
   "metadata": {},
   "outputs": [],
   "source": []
  },
  {
   "cell_type": "code",
   "execution_count": null,
   "metadata": {},
   "outputs": [],
   "source": []
  }
 ],
 "metadata": {
  "kernelspec": {
   "display_name": "Python 3 (ipykernel)",
   "language": "python",
   "name": "python3"
  },
  "language_info": {
   "codemirror_mode": {
    "name": "ipython",
    "version": 3
   },
   "file_extension": ".py",
   "mimetype": "text/x-python",
   "name": "python",
   "nbconvert_exporter": "python",
   "pygments_lexer": "ipython3",
   "version": "3.9.5"
  }
 },
 "nbformat": 4,
 "nbformat_minor": 2
}
