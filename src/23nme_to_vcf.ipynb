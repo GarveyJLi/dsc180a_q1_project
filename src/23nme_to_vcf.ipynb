{
 "cells": [
  {
   "cell_type": "code",
   "execution_count": 1,
   "id": "3ac80e55",
   "metadata": {},
   "outputs": [],
   "source": [
    "#!pip install -r ../requirements.txt"
   ]
  },
  {
   "cell_type": "code",
   "execution_count": 1,
   "id": "9beec724",
   "metadata": {},
   "outputs": [],
   "source": [
    "# Cell 2\n",
    "import warnings\n",
    "warnings.filterwarnings('ignore')\n",
    "\n",
    "import pandas_plink as pp\n",
    "import statsmodels.api as sm\n",
    "import matplotlib.pyplot as plt\n",
    "import subprocess\n",
    "import pandas as pd\n",
    "import numpy as np\n",
    "from functools import reduce\n",
    "from sklearn.metrics import r2_score\n",
    "import random\n",
    "import os\n",
    "import tarfile\n",
    "import gzip\n",
    "from extract_data import extract_data\n",
    "#extract_data()\n",
    "from tools import *\n",
    "\n",
    "\n",
    "%load_ext autoreload\n",
    "%autoreload 2"
   ]
  },
  {
   "cell_type": "code",
   "execution_count": 2,
   "id": "81ebe19b-e338-4cef-8ec2-9ba827c236cb",
   "metadata": {},
   "outputs": [
    {
     "name": "stdout",
     "output_type": "stream",
     "text": [
      "bcftools 1.21\n",
      "Using htslib 1.21\n",
      "Copyright (C) 2024 Genome Research Ltd.\n",
      "License Expat: The MIT/Expat license\n",
      "This is free software: you are free to change and redistribute it.\n",
      "There is NO WARRANTY, to the extent permitted by law.\n"
     ]
    }
   ],
   "source": [
    "!bcftools-install/bin/bcftools --version"
   ]
  },
  {
   "cell_type": "code",
   "execution_count": 3,
   "id": "54477ce5-1d8b-49df-8c74-97db384927dd",
   "metadata": {},
   "outputs": [],
   "source": [
    "genome_data = pd.read_table('../data/genome_Tiffany_AmariutaBartell_v5_Full_20230928160859_reformatted.txt')\n",
    "#genome_data.to_csv('../data/genome_Tiffany_AmariutaBartell_v5_Full_20230928160859_reformatted.txt', sep='\\t', index=False)\n",
    "#genome_data[['CHROM','POS','ID','AA']].to_csv('../data/genome_Tiffany_AmariutaBartell_v5_Full_20230928160859_reformatted_temp.txt', sep='\\t', index=False)"
   ]
  },
  {
   "cell_type": "code",
   "execution_count": 4,
   "id": "b5ce04b5-f2e2-482b-9fe3-74b7388fac0a",
   "metadata": {},
   "outputs": [
    {
     "data": {
      "text/plain": [
       "'\\nTSV conversion:\\n--tsv2vcf FILE\\n-c, --columns STRING           Columns of the input tsv file, see man page for details [ID,CHROM,POS,AA]\\n-f, --fasta-ref FILE           Reference sequence in fasta format\\n-s, --samples LIST             List of sample names\\n-S, --samples-file FILE        File of sample names\\n'"
      ]
     },
     "execution_count": 4,
     "metadata": {},
     "output_type": "execute_result"
    }
   ],
   "source": [
    "'''\n",
    "TSV conversion:\n",
    "--tsv2vcf FILE\n",
    "-c, --columns STRING           Columns of the input tsv file, see man page for details [ID,CHROM,POS,AA]\n",
    "-f, --fasta-ref FILE           Reference sequence in fasta format\n",
    "-s, --samples LIST             List of sample names\n",
    "-S, --samples-file FILE        File of sample names\n",
    "'''"
   ]
  },
  {
   "cell_type": "code",
   "execution_count": 5,
   "id": "3d3b4b86-a169-4da3-9da9-c120f0e2529e",
   "metadata": {},
   "outputs": [],
   "source": [
    "#!gzip ../data/genome_Tiffany_AmariutaBartell_v5_Full_20230928160859_reformatted.txt\n",
    "#!gzip -d ../data/genome_Tiffany_AmariutaBartell_v5_Full_20230928160859_reformatted.txt.gz"
   ]
  },
  {
   "cell_type": "code",
   "execution_count": 6,
   "id": "fd20f2a0-1148-4978-9b11-55e27aa86b99",
   "metadata": {},
   "outputs": [],
   "source": [
    "personal = pd.read_table('../data/genome_Tiffany_AmariutaBartell_v5_Full_20230928160859_reformatted.txt')\n",
    "personal['CHROM'] = personal['CHROM'].apply(lambda x: f'chr{x}')\n",
    "\n",
    "\n",
    "personal.to_csv('../data/genome_Tiffany_AmariutaBartell_v5_Full_20230928160859_reformatted_no_header.txt', index=False, sep='\\t')"
   ]
  },
  {
   "cell_type": "code",
   "execution_count": 27,
   "id": "6cb4b56d-5468-492f-8c18-38d859f09afa",
   "metadata": {},
   "outputs": [
    {
     "data": {
      "text/html": [
       "<div>\n",
       "<style scoped>\n",
       "    .dataframe tbody tr th:only-of-type {\n",
       "        vertical-align: middle;\n",
       "    }\n",
       "\n",
       "    .dataframe tbody tr th {\n",
       "        vertical-align: top;\n",
       "    }\n",
       "\n",
       "    .dataframe thead th {\n",
       "        text-align: right;\n",
       "    }\n",
       "</style>\n",
       "<table border=\"1\" class=\"dataframe\">\n",
       "  <thead>\n",
       "    <tr style=\"text-align: right;\">\n",
       "      <th></th>\n",
       "      <th>#ID</th>\n",
       "      <th>CHROM</th>\n",
       "      <th>POS</th>\n",
       "      <th>AA</th>\n",
       "    </tr>\n",
       "  </thead>\n",
       "  <tbody>\n",
       "    <tr>\n",
       "      <th>0</th>\n",
       "      <td>rs548049170</td>\n",
       "      <td>chr1</td>\n",
       "      <td>69869</td>\n",
       "      <td>TT</td>\n",
       "    </tr>\n",
       "    <tr>\n",
       "      <th>1</th>\n",
       "      <td>rs9326622</td>\n",
       "      <td>chr1</td>\n",
       "      <td>567092</td>\n",
       "      <td>CC</td>\n",
       "    </tr>\n",
       "    <tr>\n",
       "      <th>2</th>\n",
       "      <td>rs116587930</td>\n",
       "      <td>chr1</td>\n",
       "      <td>727841</td>\n",
       "      <td>GG</td>\n",
       "    </tr>\n",
       "    <tr>\n",
       "      <th>3</th>\n",
       "      <td>rs3131972</td>\n",
       "      <td>chr1</td>\n",
       "      <td>752721</td>\n",
       "      <td>GG</td>\n",
       "    </tr>\n",
       "    <tr>\n",
       "      <th>4</th>\n",
       "      <td>rs12184325</td>\n",
       "      <td>chr1</td>\n",
       "      <td>754105</td>\n",
       "      <td>CC</td>\n",
       "    </tr>\n",
       "    <tr>\n",
       "      <th>...</th>\n",
       "      <td>...</td>\n",
       "      <td>...</td>\n",
       "      <td>...</td>\n",
       "      <td>...</td>\n",
       "    </tr>\n",
       "    <tr>\n",
       "      <th>643530</th>\n",
       "      <td>i704756</td>\n",
       "      <td>chrMT</td>\n",
       "      <td>16524</td>\n",
       "      <td>A</td>\n",
       "    </tr>\n",
       "    <tr>\n",
       "      <th>643531</th>\n",
       "      <td>i705255</td>\n",
       "      <td>chrMT</td>\n",
       "      <td>16525</td>\n",
       "      <td>A</td>\n",
       "    </tr>\n",
       "    <tr>\n",
       "      <th>643532</th>\n",
       "      <td>i4000757</td>\n",
       "      <td>chrMT</td>\n",
       "      <td>16526</td>\n",
       "      <td>G</td>\n",
       "    </tr>\n",
       "    <tr>\n",
       "      <th>643533</th>\n",
       "      <td>i701671</td>\n",
       "      <td>chrMT</td>\n",
       "      <td>16526</td>\n",
       "      <td>G</td>\n",
       "    </tr>\n",
       "    <tr>\n",
       "      <th>643534</th>\n",
       "      <td>i745490</td>\n",
       "      <td>chrMT</td>\n",
       "      <td>16545</td>\n",
       "      <td>T</td>\n",
       "    </tr>\n",
       "  </tbody>\n",
       "</table>\n",
       "<p>643535 rows × 4 columns</p>\n",
       "</div>"
      ],
      "text/plain": [
       "                #ID  CHROM     POS  AA\n",
       "0       rs548049170   chr1   69869  TT\n",
       "1         rs9326622   chr1  567092  CC\n",
       "2       rs116587930   chr1  727841  GG\n",
       "3         rs3131972   chr1  752721  GG\n",
       "4        rs12184325   chr1  754105  CC\n",
       "...             ...    ...     ...  ..\n",
       "643530      i704756  chrMT   16524   A\n",
       "643531      i705255  chrMT   16525   A\n",
       "643532     i4000757  chrMT   16526   G\n",
       "643533      i701671  chrMT   16526   G\n",
       "643534      i745490  chrMT   16545   T\n",
       "\n",
       "[643535 rows x 4 columns]"
      ]
     },
     "execution_count": 27,
     "metadata": {},
     "output_type": "execute_result"
    }
   ],
   "source": [
    "pd.read_table('../data/genome_Tiffany_AmariutaBartell_v5_Full_20230928160859_reformatted_no_header.txt')"
   ]
  },
  {
   "cell_type": "code",
   "execution_count": 13,
   "id": "6739bb01",
   "metadata": {},
   "outputs": [
    {
     "name": "stderr",
     "output_type": "stream",
     "text": [
      "Rows total: \t643536\n",
      "Rows skipped: \t5172\n",
      "Sites written: \t638364\n",
      "Missing GTs: \t13451\n",
      "Hom RR: \t133174\n",
      "Het RA: \t52413\n",
      "Hom AA: \t387468\n",
      "Het AA: \t51858\n"
     ]
    }
   ],
   "source": [
    "def to_vcf(input_fp, output_fp):\n",
    "    bcf_cmd = f'bcftools-install/bin/bcftools convert -c ID,CHROM,POS,AA,- -s sample1 -f ../data/Homo_sapiens.GRCh38.dna.primary_assembly.fa --tsv2vcf {input_fp} -o {output_fp}'\n",
    "    os.system(bcf_cmd)\n",
    "# rsid\tchromosome\tposition\tgenotype\n",
    "to_vcf('../data/genome_Tiffany_AmariutaBartell_v5_Full_20230928160859_reformatted.txt', '../data/genome_Tiffany_AmariutaBartell_v5_Full_20230928160859_reformatted.vcf')"
   ]
  },
  {
   "cell_type": "code",
   "execution_count": null,
   "id": "08d4acac-8c6c-49fd-ba45-4b11f0660f2a",
   "metadata": {},
   "outputs": [],
   "source": []
  }
 ],
 "metadata": {
  "kernelspec": {
   "display_name": "Python 3 (ipykernel)",
   "language": "python",
   "name": "python3"
  },
  "language_info": {
   "codemirror_mode": {
    "name": "ipython",
    "version": 3
   },
   "file_extension": ".py",
   "mimetype": "text/x-python",
   "name": "python",
   "nbconvert_exporter": "python",
   "pygments_lexer": "ipython3",
   "version": "3.11.9"
  }
 },
 "nbformat": 4,
 "nbformat_minor": 5
}
