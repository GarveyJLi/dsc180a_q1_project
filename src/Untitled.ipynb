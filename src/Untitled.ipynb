{
 "cells": [
  {
   "cell_type": "code",
   "execution_count": null,
   "id": "b99cf3c2-fefd-4646-91d6-18042477691d",
   "metadata": {},
   "outputs": [],
   "source": [
    "# Cell 1\n",
    "#!pip install -r ../requirements.txt"
   ]
  },
  {
   "cell_type": "code",
   "execution_count": 1,
   "id": "4bd433d8-aaca-4237-b5d4-4344fb3d1c43",
   "metadata": {},
   "outputs": [],
   "source": [
    "# Cell 2\n",
    "import warnings\n",
    "warnings.filterwarnings('ignore')\n",
    "\n",
    "import pandas_plink as pp\n",
    "import statsmodels.api as sm\n",
    "import matplotlib.pyplot as plt\n",
    "import subprocess\n",
    "import pandas as pd\n",
    "import numpy as np\n",
    "from functools import reduce\n",
    "from sklearn.metrics import r2_score\n",
    "import random\n",
    "import os\n",
    "import tarfile\n",
    "import gzip\n",
    "from extract_data import extract_data\n",
    "#extract_data()\n",
    "from tools import *\n",
    "\n",
    "\n",
    "%load_ext autoreload\n",
    "%autoreload 2"
   ]
  },
  {
   "cell_type": "code",
   "execution_count": 2,
   "id": "b77a8093-d412-4ad9-8fcf-ba41a12442d3",
   "metadata": {},
   "outputs": [
    {
     "name": "stdout",
     "output_type": "stream",
     "text": [
      "ENCFF421XIL.bed.gz\n",
      "GCF_000001405.40_GRCh38.p14_genomic.fna\n",
      "GCF_000001405.40_GRCh38.p14_genomic.fna.fai\n",
      "GD462.GeneQuantRPKM.50FN.samplename.resk10.txt.gz\n",
      "Height.gwas.txt.gz\n",
      "Homo_sapiens.GRCh38.dna.alt.fa.gz\n",
      "Homo_sapiens.GRCh38.dna.primary_assembly.fa\n",
      "Homo_sapiens.GRCh38.dna.primary_assembly.fa.fai\n",
      "LDREF\n",
      "LDREF.tar.bz2\n",
      "genome_Tiffany_AmariutaBartell_v5_Full_20230928160859.txt\n",
      "genome_Tiffany_AmariutaBartell_v5_Full_20230928160859_reformatted.txt\n",
      "genome_Tiffany_AmariutaBartell_v5_Full_20230928160859_reformatted.vcf\n",
      "genome_Tiffany_AmariutaBartell_v5_Full_20230928160859_reformatted_no_header.txt\n",
      "genome_Tiffany_AmariutaBartell_v5_Full_20230928160859_reformatted_temp.txt\n"
     ]
    }
   ],
   "source": [
    "!ls ../data"
   ]
  },
  {
   "cell_type": "code",
   "execution_count": null,
   "id": "cc228f62-1ee1-47c4-b8c2-1adaa3209379",
   "metadata": {},
   "outputs": [],
   "source": []
  },
  {
   "cell_type": "code",
   "execution_count": null,
   "id": "5caab154-424d-4874-bf08-52941474833e",
   "metadata": {},
   "outputs": [],
   "source": [
    "bed_fp = '../data/ENCFF421XIL.gz'"
   ]
  }
 ],
 "metadata": {
  "kernelspec": {
   "display_name": "Python 3 (ipykernel)",
   "language": "python",
   "name": "python3"
  },
  "language_info": {
   "codemirror_mode": {
    "name": "ipython",
    "version": 3
   },
   "file_extension": ".py",
   "mimetype": "text/x-python",
   "name": "python",
   "nbconvert_exporter": "python",
   "pygments_lexer": "ipython3",
   "version": "3.11.9"
  }
 },
 "nbformat": 4,
 "nbformat_minor": 5
}
