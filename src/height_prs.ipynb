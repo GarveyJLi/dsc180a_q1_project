{
 "cells": [
  {
   "cell_type": "markdown",
   "metadata": {},
   "source": [
    "# Setup\n",
    "Install and import required packages \n",
    "Extract data if it has not already been extracted"
   ]
  },
  {
   "cell_type": "code",
   "execution_count": 1,
   "metadata": {},
   "outputs": [],
   "source": [
    "# Cell 1\n",
    "\n",
    "# Uncomment the line below if there are some packages missing\n",
    "#!pip install -r ../requirements.txt\n",
    "from extract_data import extract_data\n",
    "# Uncomment the line below if the files required are missing\n",
    "#extract_data()"
   ]
  },
  {
   "cell_type": "code",
   "execution_count": 2,
   "metadata": {},
   "outputs": [],
   "source": [
    "# Cell 2\n",
    "import warnings\n",
    "warnings.filterwarnings('ignore')\n",
    "\n",
    "import pandas_plink as pp\n",
    "import statsmodels.api as sm\n",
    "import matplotlib.pyplot as plt\n",
    "import subprocess\n",
    "import pandas as pd\n",
    "import numpy as np\n",
    "from functools import reduce\n",
    "from sklearn.metrics import r2_score\n",
    "import random\n",
    "import os\n",
    "import tarfile\n",
    "import gzip\n",
    "from extract_data import extract_data\n",
    "#extract_data()\n",
    "from tools import *\n",
    "\n",
    "\n",
    "%load_ext autoreload\n",
    "%autoreload 2"
   ]
  },
  {
   "cell_type": "markdown",
   "metadata": {},
   "source": [
    "# Ensuring correct installation and setup of plink2"
   ]
  },
  {
   "cell_type": "code",
   "execution_count": 3,
   "metadata": {},
   "outputs": [
    {
     "name": "stdout",
     "output_type": "stream",
     "text": [
      "PLINK v2.0.0-a.6 32-bit (20 Oct 2024)              cog-genomics.org/plink/2.0/\n",
      "(C) 2005-2024 Shaun Purcell, Christopher Chang   GNU General Public License v3\n",
      "\n",
      "  plink2 <input flag(s)...> [command flag(s)...] [other flag(s)...]\n",
      "  plink2 --help [flag name(s)...]\n",
      "\n",
      "Commands include --rm-dup list, --make-bpgen, --export, --freq, --geno-counts,\n",
      "--sample-counts, --missing, --hardy, --het, --fst, --indep-pairwise,\n",
      "--r2-phased, --sample-diff, --make-king, --king-cutoff, --pmerge, --pgen-diff,\n",
      "--write-samples, --write-snplist, --make-grm-list, --pca, --glm, --adjust-file,\n",
      "--gwas-ssf, --pheno-svd, --clump, --score-list, --variant-score,\n",
      "--genotyping-rate, --pgen-info, --validate, and --zst-decompress.\n",
      "\n",
      "\"plink2 --help | more\" describes all functions.\n"
     ]
    }
   ],
   "source": [
    "# Cell 3\n",
    "\n",
    "\n",
    "\n",
    "# IF RUNNING THIS RESULTS IN THE ERROR MESSAGE:\n",
    "# /bin/bash: ./plink2: Permission denied\n",
    "# UNCOMMENT THE LINE OF CODE BELOW THIS AND RERUN THE CELL THEN RECOMMENT\n",
    "\n",
    "#######################################\n",
    "#!chmod 700 plink2\n",
    "#######################################\n",
    "\n",
    "# OTHERWISE, SHOULD OUTPUT SOMETHING LIKE \n",
    "\"\"\"\n",
    "PLINK v2.0.0-a.6 32-bit (20 Oct 2024)              cog-genomics.org/plink/2.0/\n",
    "(C) 2005-2024 Shaun Purcell, Christopher Chang   GNU General Public License v3\n",
    "\n",
    "  plink2 <input flag(s)...> [command flag(s)...] [other flag(s)...]\n",
    "  plink2 --help [flag name(s)...]\n",
    "\n",
    "Commands include --rm-dup list, --make-bpgen, --export, --freq, --geno-counts,\n",
    "--sample-counts, --missing, --hardy, --het, --fst, --indep-pairwise,\n",
    "--r2-phased, --sample-diff, --make-king, --king-cutoff, --pmerge, --pgen-diff,\n",
    "--write-samples, --write-snplist, --make-grm-list, --pca, --glm, --adjust-file,\n",
    "--gwas-ssf, --pheno-svd, --clump, --score-list, --variant-score,\n",
    "--genotyping-rate, --pgen-info, --validate, and --zst-decompress.\n",
    "\n",
    "\"plink2 --help | more\" describes all functions.\n",
    "\n",
    "\"\"\"\n",
    "!./plink2\n"
   ]
  },
  {
   "cell_type": "markdown",
   "metadata": {},
   "source": [
    "# Loading 1000 Genotypes, GWAS, and f_eur_sample.vcf data"
   ]
  },
  {
   "cell_type": "code",
   "execution_count": 4,
   "metadata": {},
   "outputs": [],
   "source": [
    "# Cell 4\n",
    "phenotype_data = '../data/GD462.GeneQuantRPKM.50FN.samplename.resk10.txt.gz'\n",
    "\n",
    "# alleles = .bim (snp. came from vcf file (txt file))\n",
    "# samples = .fam (family id)\n",
    "# genotypes = .bed (genotypes). Rows and columns defined by alleles and samples\n",
    "(alleles, samples, genotypes) = pp.read_plink(\"../data/LDREF/1000G.EUR.*\",\n",
    "                             verbose=False)\n",
    "genotypes = pd.DataFrame(genotypes.compute())\n",
    "genotypes.index = alleles['snp']\n",
    "P = pd.read_csv(phenotype_data, sep='\\t', compression='gzip')\n",
    "\n",
    "height_eqtl_fp = '../data/Height.gwas.txt.gz'\n",
    "height_eqtl = pd.read_table(height_eqtl_fp)\n",
    "height_eqtl.columns = map(str.lower, height_eqtl.columns)\n",
    "height_eqtl['beta'] = height_eqtl['or'].apply(lambda x: np.log(x))\n",
    "\n",
    "vcf_fp = '../data/f_eur_sample.vcf'\n",
    "vcf_df = pd.read_csv(vcf_fp, sep=\"\\t\", comment='#')\n",
    "vcf_df['sample1_int'] = vcf_df['sample1'].apply(lambda x: str_to_phenotype(x))"
   ]
  },
  {
   "cell_type": "markdown",
   "metadata": {},
   "source": [
    "# Pruning and thresholding SNPs in the GWAS summary statistics"
   ]
  },
  {
   "cell_type": "code",
   "execution_count": 5,
   "metadata": {},
   "outputs": [
    {
     "name": "stderr",
     "output_type": "stream",
     "text": [
      "Warning: 27339 top variant IDs in --clump file missing from main dataset.  IDs\n",
      "written to temp_files/clump_chr_1.clumps.missing_id .\n",
      "Warning: 27478 top variant IDs in --clump file missing from main dataset.  IDs\n",
      "written to temp_files/clump_chr_2.clumps.missing_id .\n",
      "Warning: 27562 top variant IDs in --clump file missing from main dataset.  IDs\n",
      "written to temp_files/clump_chr_3.clumps.missing_id .\n",
      "Warning: 27651 top variant IDs in --clump file missing from main dataset.  IDs\n",
      "written to temp_files/clump_chr_4.clumps.missing_id .\n",
      "Warning: 27701 top variant IDs in --clump file missing from main dataset.  IDs\n",
      "written to temp_files/clump_chr_5.clumps.missing_id .\n",
      "Warning: 26778 top variant IDs in --clump file missing from main dataset.  IDs\n",
      "written to temp_files/clump_chr_6.clumps.missing_id .\n",
      "Warning: 27718 top variant IDs in --clump file missing from main dataset.  IDs\n",
      "written to temp_files/clump_chr_7.clumps.missing_id .\n",
      "Warning: 27619 top variant IDs in --clump file missing from main dataset.  IDs\n",
      "written to temp_files/clump_chr_8.clumps.missing_id .\n",
      "Warning: 27742 top variant IDs in --clump file missing from main dataset.  IDs\n",
      "written to temp_files/clump_chr_9.clumps.missing_id .\n",
      "Warning: 27748 top variant IDs in --clump file missing from main dataset.  IDs\n",
      "written to temp_files/clump_chr_10.clumps.missing_id .\n",
      "Warning: 27528 top variant IDs in --clump file missing from main dataset.  IDs\n",
      "written to temp_files/clump_chr_11.clumps.missing_id .\n",
      "Warning: 27701 top variant IDs in --clump file missing from main dataset.  IDs\n",
      "written to temp_files/clump_chr_12.clumps.missing_id .\n",
      "Warning: 27899 top variant IDs in --clump file missing from main dataset.  IDs\n",
      "written to temp_files/clump_chr_13.clumps.missing_id .\n",
      "Warning: 27916 top variant IDs in --clump file missing from main dataset.  IDs\n",
      "written to temp_files/clump_chr_14.clumps.missing_id .\n",
      "Warning: 27880 top variant IDs in --clump file missing from main dataset.  IDs\n",
      "written to temp_files/clump_chr_15.clumps.missing_id .\n",
      "Warning: 27863 top variant IDs in --clump file missing from main dataset.  IDs\n",
      "written to temp_files/clump_chr_16.clumps.missing_id .\n",
      "Warning: 27773 top variant IDs in --clump file missing from main dataset.  IDs\n",
      "written to temp_files/clump_chr_17.clumps.missing_id .\n",
      "Warning: 27960 top variant IDs in --clump file missing from main dataset.  IDs\n",
      "written to temp_files/clump_chr_18.clumps.missing_id .\n",
      "Warning: 27795 top variant IDs in --clump file missing from main dataset.  IDs\n",
      "written to temp_files/clump_chr_19.clumps.missing_id .\n",
      "Warning: 27945 top variant IDs in --clump file missing from main dataset.  IDs\n",
      "written to temp_files/clump_chr_20.clumps.missing_id .\n",
      "Warning: 28083 top variant IDs in --clump file missing from main dataset.  IDs\n",
      "written to temp_files/clump_chr_21.clumps.missing_id .\n",
      "Warning: 27975 top variant IDs in --clump file missing from main dataset.  IDs\n",
      "written to temp_files/clump_chr_22.clumps.missing_id .\n"
     ]
    }
   ],
   "source": [
    "all_outs = []\n",
    "all_dfs = []\n",
    "\n",
    "for i in range(1, 23):\n",
    "    temp_out = f'temp_files/clump_chr_{i}'\n",
    "    clump_cmd = f'./plink2 --bfile ../data/LDREF/1000G.EUR.{i} --clump {height_eqtl_fp} --clump-p1 1e-4 --clump-r2 0.1 --clump-kb 250 --out {temp_out} --silent'\n",
    "    all_outs.append(temp_out + '.clumps')\n",
    "    os.system(clump_cmd)\n",
    "for out in all_outs:\n",
    "    all_dfs.append(pd.read_csv(out, sep='\\t'))\n",
    "\n",
    "all_clumped_snps = pd.concat(all_dfs)"
   ]
  },
  {
   "cell_type": "markdown",
   "metadata": {},
   "source": [
    "# Merging individual f_eur_sample.vcf with the 1000 Genomes dataset"
   ]
  },
  {
   "cell_type": "code",
   "execution_count": 6,
   "metadata": {},
   "outputs": [],
   "source": [
    "h_genotypes = genotypes.loc[all_clumped_snps['ID']].merge(vcf_df[['ID', 'sample1_int']].set_index('ID'), left_index=True, right_index=True, how='left').dropna()\n",
    "h_alleles = alleles[alleles['snp'].isin(h_genotypes.index)]\n",
    "pruned_height_eqtl = height_eqtl[height_eqtl['snp'].isin(h_genotypes.index)]\n",
    "h_samples = samples.copy()\n",
    "h_samples.iloc[-1] = ['t1', 't1', '0', '0', '0', '-9', 'sample1_int']"
   ]
  },
  {
   "cell_type": "markdown",
   "metadata": {},
   "source": [
    "# Plotting the individual against the PRS distribution for height"
   ]
  },
  {
   "cell_type": "code",
   "execution_count": 7,
   "metadata": {},
   "outputs": [
    {
     "data": {
      "image/png": "[encoded data removed]",
      "text/plain": [
       "<Figure size 640x480 with 1 Axes>"
      ]
     },
     "metadata": {},
     "output_type": "display_data"
    }
   ],
   "source": [
    "height_prs_vals = prs_gene_pipeline(pruned_height_eqtl, h_samples, h_genotypes, snp_id='snp', p_val=None)\n",
    "pd.DataFrame.from_dict(height_prs_vals, orient='index').plot(kind='hist', bins=50, label='PRS Distribution')\n",
    "plt.title('PRS Distribution for Genes Related to Height')\n",
    "plt.axvline(height_prs_vals['t1'], color='red', label='individual_1')\n",
    "plt.legend()\n",
    "plt.show()"
   ]
  },
  {
   "cell_type": "code",
   "execution_count": null,
   "metadata": {},
   "outputs": [],
   "source": []
  }
 ],
 "metadata": {
  "kernelspec": {
   "display_name": "Python 3 (ipykernel)",
   "language": "python",
   "name": "python3"
  },
  "language_info": {
   "codemirror_mode": {
    "name": "ipython",
    "version": 3
   },
   "file_extension": ".py",
   "mimetype": "text/x-python",
   "name": "python",
   "nbconvert_exporter": "python",
   "pygments_lexer": "ipython3",
   "version": "3.11.9"
  }
 },
 "nbformat": 4,
 "nbformat_minor": 4
}
